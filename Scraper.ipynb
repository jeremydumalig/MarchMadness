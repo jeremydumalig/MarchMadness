{
 "cells": [
  {
   "cell_type": "code",
   "execution_count": 8,
   "id": "4a65ff49",
   "metadata": {},
   "outputs": [],
   "source": [
    "from selenium import webdriver\n",
    "from webdriver_manager.chrome import ChromeDriverManager\n",
    "from selenium.webdriver.chrome.service import Service\n",
    "from bs4 import BeautifulSoup\n",
    "import pandas as pd\n",
    "import numpy as np\n",
    "import os\n",
    "\n",
    "pd.options.mode.chained_assignment = None\n",
    "pd.set_option('display.max_rows', None)\n",
    "pd.set_option('display.max_colwidth', None)\n",
    "pd.set_option('display.max_columns', None)"
   ]
  },
  {
   "cell_type": "code",
   "execution_count": 9,
   "id": "11ab9ac8",
   "metadata": {},
   "outputs": [
    {
     "name": "stdout",
     "output_type": "stream",
     "text": [
      "\n"
     ]
    },
    {
     "name": "stderr",
     "output_type": "stream",
     "text": [
      "[WDM] - ====== WebDriver manager ======\n",
      "[WDM] - Current google-chrome version is 111.0.5563\n",
      "[WDM] - Get LATEST chromedriver version for 111.0.5563 google-chrome\n",
      "[WDM] - Driver [/Users/jeremydumalig/.wdm/drivers/chromedriver/mac64/111.0.5563.64/chromedriver] found in cache\n"
     ]
    }
   ],
   "source": [
    "driver = webdriver.Chrome(service=Service(ChromeDriverManager().install()))\n",
    "\n",
    "mbb_teams = {\"Miami Hurricanes\": [\"https://www.sports-reference.com/cbb/schools/miami-fl/men/2023-gamelogs.html\"],\n",
    "             \"UConn Huskies\": [\"https://www.sports-reference.com/cbb/schools/connecticut/men/2023-gamelogs.html\"],\n",
    "             \"San Diego State Aztecs\": [\"https://www.sports-reference.com/cbb/schools/san-diego-state/men/2023-gamelogs.html\"],\n",
    "             \"Florida Atlantic Owls\": [\"https://www.sports-reference.com/cbb/schools/florida-atlantic/men/2023-gamelogs.html\"],\n",
    "             \"Gonzaga Bulldogs\" : [\"https://www.sports-reference.com/cbb/schools/gonzaga/men/2023-gamelogs.html\"],\n",
    "             \"UCLA Bruins\" : [\"https://www.sports-reference.com/cbb/schools/ucla/men/2023-gamelogs.html\"],\n",
    "             \"Arkansas Razorbacks\" : [\"https://www.sports-reference.com/cbb/schools/arkansas/men/2023-gamelogs.html\"],\n",
    "             \"Texas Longhorns\" : [\"https://www.sports-reference.com/cbb/schools/texas/men/2023-gamelogs.html\"],\n",
    "             \"Xavier Musketeers\" : [\"https://www.sports-reference.com/cbb/schools/xavier/men/2023-gamelogs.html\"],\n",
    "             \"Houston Cougars\" : [\"https://www.sports-reference.com/cbb/schools/houston/men/2023-gamelogs.html\"],\n",
    "             \"Michigan State Spartans\" : [\"https://www.sports-reference.com/cbb/schools/michigan-state/men/2023-gamelogs.html\"],\n",
    "             \"Kansas State Wildcats\" : [\"https://www.sports-reference.com/cbb/schools/kansas-state/men/2023-gamelogs.html\"],\n",
    "             \"Tennessee Volunteers\" : [\"https://www.sports-reference.com/cbb/schools/tennessee/men/2023-gamelogs.html\"],\n",
    "             \"Princeton Tigers\" : [\"https://www.sports-reference.com/cbb/schools/princeton/men/2023-gamelogs.html\"],\n",
    "             \"Creighton Bluejays\" : [\"https://www.sports-reference.com/cbb/schools/creighton/men/2023-gamelogs.html\"],\n",
    "             \"Alabama Crimson Tide\" : [\"https://www.sports-reference.com/cbb/schools/alabama/men/2023-gamelogs.html\"]}\n",
    "wbb_teams = {\"LSU Tigers\": [\"https://www.sports-reference.com/cbb/schools/louisiana-state/women/2023-gamelogs.html\"],\n",
    "             \"Iowa Hawkeyes\": [\"https://www.sports-reference.com/cbb/schools/iowa/women/2023-gamelogs.html\"],\n",
    "             \"South Carolina Gamecocks\" : ['https://www.sports-reference.com/cbb/schools/south-carolina/women/2023-gamelogs.html'],\n",
    "             \"Maryland Terrapins\" : ['https://www.sports-reference.com/cbb/schools/maryland/women/2023-gamelogs.html'],\n",
    "             \"Louisville Cardinals\" : ['https://www.sports-reference.com/cbb/schools/louisville/women/2023-gamelogs.html'],\n",
    "             \"Miami Hurricanes\" : ['https://www.sports-reference.com/cbb/schools/miami-fl/women/2023-gamelogs.html'],\n",
    "             \"Virginia Tech Hokies\" : ['https://www.sports-reference.com/cbb/schools/virginia-tech/women/2023-gamelogs.html'],\n",
    "             \"UCLA Bruins\" : ['https://www.sports-reference.com/cbb/schools/ucla/women/2023-gamelogs.html'],\n",
    "             \"Ohio State Buckeyes\" : ['https://www.sports-reference.com/cbb/schools/ohio-state/women/2023-gamelogs.html'],\n",
    "             \"Notre Dame Fighting Irish\" : ['https://www.sports-reference.com/cbb/schools/notre-dame/women/2023-gamelogs.html'],\n",
    "             \"Ole Miss Rebels\" : ['https://www.sports-reference.com/cbb/schools/mississippi/women/2023-gamelogs.html'],\n",
    "             \"Colorado Buffaloes\" : ['https://www.sports-reference.com/cbb/schools/colorado/women/2023-gamelogs.html'],\n",
    "             \"Villanova Wildcats\" : ['https://www.sports-reference.com/cbb/schools/villanova/women/2023-gamelogs.html'],\n",
    "             \"Utah Utes\" : ['https://www.sports-reference.com/cbb/schools/utah/women/2023-gamelogs.html'],\n",
    "             \"UConn Huskies\" : ['https://www.sports-reference.com/cbb/schools/connecticut/women/2023-gamelogs.html'],\n",
    "             \"Tennessee Volunteers\" : ['https://www.sports-reference.com/cbb/schools/tennessee/women/2023-gamelogs.html']}\n",
    "\n",
    "mbb_soups = []\n",
    "wbb_soups = []\n",
    "\n",
    "for team in mbb_teams:\n",
    "    driver.get(mbb_teams[team][0])\n",
    "    mbb_teams[team].append( BeautifulSoup(driver.page_source, 'html.parser') )\n",
    "for team in wbb_teams:\n",
    "    driver.get(wbb_teams[team][0])\n",
    "    wbb_teams[team].append( BeautifulSoup(driver.page_source, 'html.parser') )\n",
    "    \n",
    "driver.quit()"
   ]
  },
  {
   "cell_type": "code",
   "execution_count": 10,
   "id": "fa8cdc99",
   "metadata": {},
   "outputs": [],
   "source": [
    "def soup_to_df(soup, school):\n",
    "    table = soup.find(\"table\", {\"class\" : \"stats_table\"})\n",
    "\n",
    "    headers = [th.text for th in table.find(\"thead\").find_all(\"tr\")[-1].find_all(\"th\")]\n",
    "    headers = headers[0:len(headers)-16] + [\"OPP \" + h for h in headers[len(headers)-16:]]\n",
    "    headers = headers[0:3] + ['Opponent'] + headers[4:len(headers)]\n",
    "\n",
    "    rows = [i for i in table.find(\"tbody\").find_all(\"tr\")]\n",
    "    values = [[r.find(\"th\").text] + [td.text for td in r.find_all(\"td\")] for r in rows]\n",
    "\n",
    "    df = pd.DataFrame(values, columns=headers)\n",
    "\n",
    "    df = df[df.FGA.apply(lambda i : str(i).isnumeric())] # filter for empty rows\n",
    "\n",
    "    cols = ['Tm', 'Opp', 'FG', 'FGA', 'FG%', '3P', '3PA', '3P%', 'FT', 'FTA', 'FT%', 'ORB', 'TRB', 'AST', 'STL', 'BLK', 'TOV', 'PF', 'OPP FG', 'OPP FGA', 'OPP FG%', 'OPP 3P', 'OPP 3PA', 'OPP 3P%', 'OPP FT', 'OPP FTA', 'OPP FT%', 'OPP ORB', 'OPP TRB', 'OPP AST', 'OPP STL', 'OPP BLK', 'OPP TOV', 'OPP PF']\n",
    "    for c in cols:\n",
    "        df[c] = pd.to_numeric(df[c])\n",
    "\n",
    "    df.loc[\"Total\"] = df.sum()\n",
    "\n",
    "    df = df[['Opponent', 'W/L', 'Tm', 'Opp', 'FG', 'FGA', 'FG%', '3P', '3PA', '3P%', 'FT', 'FTA', 'FT%', 'ORB', 'TRB', 'AST', 'STL', 'BLK', 'TOV', 'PF', 'OPP FG', 'OPP FGA', 'OPP FG%', 'OPP 3P', 'OPP 3PA', 'OPP 3P%', 'OPP FT', 'OPP FTA', 'OPP FT%', 'OPP ORB', 'OPP TRB', 'OPP AST', 'OPP STL', 'OPP BLK', 'OPP TOV', 'OPP PF']]\n",
    "\n",
    "    df.loc[df.index == \"Total\", \"W/L\"] = \"\"\n",
    "    df.loc[df.index == \"Total\", \"Opponent\"] = \"Total\"\n",
    "    \n",
    "    df['TEAM'] = school\n",
    "    df['GP'] = len(df) - 1\n",
    "    df['OREB'] = df.ORB\n",
    "    df['OPP OREB'] = df['OPP ORB']\n",
    "    df['REB'] = df.TRB\n",
    "    df['OPP REB'] = df['OPP TRB']\n",
    "    df['POSS'] = 0.96 * (df.FGA + df.TOV + 0.44*df.FTA - df.OREB)\n",
    "    df['OPP POSS'] = 0.96 * (df['OPP FGA'] + df['OPP TOV'] + 0.44*df['OPP FTA'] - df['OPP ORB'])\n",
    "    df['PTS'] = df.Tm\n",
    "    df['OPP PTS'] = df.Opp\n",
    "    df['PPP'] = df.PTS / df['POSS']\n",
    "    df['OPP PPP'] = df['OPP PTS'] / df['OPP POSS']\n",
    "    df['FTA%'] = 100 * df.FTA / df.FGA\n",
    "    df['OPP FTA%'] = 100 * df['OPP FTA'] / df['OPP FGA']\n",
    "    df['DREB'] = df.TRB - df.ORB\n",
    "    df['OPP DREB'] = df['OPP TRB'] - df['OPP ORB']\n",
    "    df['ORB%'] = 100 * df.OREB / (df.OREB + df['OPP DREB'])\n",
    "    df['OPP ORB%'] = 100 * df['OPP OREB'] / (df['OPP OREB'] + df.DREB)\n",
    "    df['DRB%'] = 100 * df.DREB / (df.DREB + df['OPP OREB'])\n",
    "    df['OPP DRB%'] = 100 * df['OPP DREB'] / (df['OPP DREB'] + df.OREB)\n",
    "    df['REB%'] = 100 * df.REB / (df.REB + df['OPP REB'])\n",
    "    df['OPP REB%'] = 100 * df['OPP REB'] / (df['OPP REB'] + df.REB)\n",
    "    df['TO%'] = 100 * df.TOV / df['POSS']\n",
    "    df['OPP TO%'] = 100 * df['OPP TOV'] / df['OPP POSS']\n",
    "\n",
    "    return df"
   ]
  },
  {
   "cell_type": "code",
   "execution_count": 11,
   "id": "e21c0cd7",
   "metadata": {},
   "outputs": [],
   "source": [
    "logos = pd.read_csv(\"ncaa_logos.csv\")\n",
    "\n",
    "mbb_games = pd.concat([soup_to_df(mbb_teams[team][1], team) for team in mbb_teams])\n",
    "mbb_games = pd.merge(mbb_games, logos, on=\"TEAM\", how=\"left\")\n",
    "\n",
    "wbb_games = pd.concat([soup_to_df(wbb_teams[team][1], team) for team in wbb_teams])\n",
    "wbb_games = pd.merge(wbb_games, logos, on=\"TEAM\", how=\"left\")"
   ]
  },
  {
   "cell_type": "code",
   "execution_count": 12,
   "id": "5bac172f",
   "metadata": {},
   "outputs": [],
   "source": [
    "mbb_finalFour = [\"UConn Huskies\", \"Miami Hurricanes\", \"San Diego State Aztecs\", \"Florida Atlantic Owls\"]\n",
    "wbb_finalFour = [\"Iowa Hawkeyes\", \"South Carolina Gamecocks\",  \"Virginia Tech Hokies\", \"LSU Tigers\"]\n",
    "\n",
    "def isFinalFour(team, women=True):\n",
    "    if (women and (team in wbb_finalFour)) or ((not women) and (team in mbb_finalFour)):\n",
    "        return True\n",
    "    else:\n",
    "        return False\n",
    "    \n",
    "mbb_games['FinalFour'] = mbb_games.TEAM.apply(lambda i : isFinalFour(i, women=False))\n",
    "wbb_games['FinalFour'] = wbb_games.TEAM.apply(isFinalFour)"
   ]
  },
  {
   "cell_type": "code",
   "execution_count": 13,
   "id": "9da96c51",
   "metadata": {},
   "outputs": [],
   "source": [
    "mbb_games.to_csv(\"ncaa_sweet16_mbb_logs.csv\")\n",
    "wbb_games.to_csv(\"ncaa_sweet16_wbb_logs.csv\")"
   ]
  }
 ],
 "metadata": {
  "kernelspec": {
   "display_name": "Python 3 (ipykernel)",
   "language": "python",
   "name": "python3"
  },
  "language_info": {
   "codemirror_mode": {
    "name": "ipython",
    "version": 3
   },
   "file_extension": ".py",
   "mimetype": "text/x-python",
   "name": "python",
   "nbconvert_exporter": "python",
   "pygments_lexer": "ipython3",
   "version": "3.9.13"
  }
 },
 "nbformat": 4,
 "nbformat_minor": 5
}
