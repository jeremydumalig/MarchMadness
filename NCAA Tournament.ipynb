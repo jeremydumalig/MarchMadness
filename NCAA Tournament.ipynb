{
  "cells": [
    {
      "cell_type": "markdown",
      "source": [
        "## Back-End Code"
      ],
      "metadata": {
        "id": "oLeWEgreraAZ"
      }
    },
    {
      "cell_type": "code",
      "execution_count": 1,
      "metadata": {
        "id": "2PI2ZLSzQmwU"
      },
      "outputs": [],
      "source": [
        "import pandas as pd\n",
        "import numpy as np\n",
        "import math\n",
        "from ipywidgets import interact, interactive, fixed, interact_manual\n",
        "import ipywidgets as widgets\n",
        "from IPython.display import clear_output\n",
        "from IPython.display import Javascript\n",
        "\n",
        "pd.options.mode.chained_assignment = None\n",
        "pd.set_option('display.max_rows', None)\n",
        "pd.set_option('display.max_columns', None)\n",
        "pd.set_option('display.max_colwidth', None)\n",
        "\n",
        "def resize_colab_cell():\n",
        "  display(Javascript('google.colab.output.setIframeHeight(0, true, {maxHeight: 5000})'))\n",
        "get_ipython().events.register('pre_run_cell', resize_colab_cell)\n",
        "\n",
        "try:\n",
        "    import piplite\n",
        "    await piplite.install(['ipywidgets'])\n",
        "except ImportError:\n",
        "    pass\n",
        "from ipywidgets import interact, interactive, fixed, interact_manual\n",
        "import ipywidgets as widgets"
      ]
    },
    {
      "cell_type": "code",
      "source": [
        "mbb_logs = pd.read_csv(\"https://raw.githubusercontent.com/jeremydumalig/MarchMadness/main/ncaa_sweet16_mbb_logs.csv\")\n",
        "wbb_logs = pd.read_csv(\"https://raw.githubusercontent.com/jeremydumalig/MarchMadness/main/ncaa_sweet16_wbb_logs.csv\")\n",
        "\n",
        "mbb_logs = mbb_logs[mbb_logs.FinalFour]\n",
        "wbb_logs = wbb_logs[wbb_logs.FinalFour]"
      ],
      "metadata": {
        "id": "huXN2jM1mDMv",
        "colab": {
          "base_uri": "https://localhost:8080/",
          "height": 0
        },
        "outputId": "96d31574-a64a-49d2-8278-46c584a85ac8"
      },
      "execution_count": 2,
      "outputs": [
        {
          "output_type": "display_data",
          "data": {
            "text/plain": [
              "<IPython.core.display.Javascript object>"
            ],
            "application/javascript": [
              "google.colab.output.setIframeHeight(0, true, {maxHeight: 5000})"
            ]
          },
          "metadata": {}
        }
      ]
    },
    {
      "cell_type": "code",
      "source": [
        "def pick_season(Season):\n",
        "  global season_df\n",
        "  \n",
        "  if Season == \"Last 5 Games\":\n",
        "    season_df = sort_df.tail(6)\n",
        "  elif Season == \"Last 10 Games\":\n",
        "    season_df = sort_df.tail(11)\n",
        "  else:\n",
        "    season_df = sort_df.copy()\n",
        " \n",
        "  display( season_df[['Opponent', 'W/L', 'Margin', 'POSS', 'PPP', 'OPP PPP', '3PA%', 'OPP 3PA%', 'FTA%', 'OPP FTA%', 'ORB%', 'DRB%', 'REB%', 'TO%', 'OPP TO%']].set_index('Opponent') )\n",
        "\n",
        "def pick_sort(Sort_By):\n",
        "  global sort_df\n",
        "\n",
        "  sort_df = pd.concat([team_df.head(len(team_df)-1).sort_values(by=Sort_By, ascending=False),\n",
        "                       team_df.tail(1)])\n",
        "  \n",
        "  for col in ['POSS', '3PA%', 'OPP 3PA%', 'FTA%', 'OPP FTA%', 'ORB%', 'DRB%', 'REB%', 'TO%', 'OPP TO%']:\n",
        "    sort_df[col] = sort_df[col].round(1)\n",
        "  \n",
        "  sort_df['PPP'] = sort_df['PPP'].round(2)\n",
        "  sort_df['OPP PPP'] = sort_df['OPP PPP'].round(2)\n",
        "\n",
        "  sort_df.loc[sort_df.Opponent == \"Total\", 'POSS'] = round(sort_df.POSS / sort_df.GP, 1)\n",
        "  sort_df.loc[sort_df['Opponent'] == \"Total\", 'W/L'] = \"\"\n",
        "\n",
        "  interact(pick_season, Season=['All Games', 'Last 5 Games', 'Last 10 Games']);\n",
        "\n",
        "def pick_team(Team):\n",
        "  global team_df\n",
        "\n",
        "  team_df = current[(current.TEAM == Team)]\n",
        "\n",
        "  interact(pick_sort, Sort_By=['POSS', 'PPP', 'OPP PPP', '3PA%', 'OPP 3PA%', 'FTA%', 'OPP FTA%', 'ORB%', 'DRB%', 'REB%', 'TO%', 'OPP TO%']);\n",
        "\n",
        "def pick_division(Division):\n",
        "  global current\n",
        "\n",
        "  if Division == \"Women's Tournament\":\n",
        "    current = wbb_logs.copy()\n",
        "  else:\n",
        "    current = mbb_logs.copy()\n",
        "\n",
        "  interact(pick_team, Team=list(pd.unique(current.TEAM)));"
      ],
      "metadata": {
        "colab": {
          "base_uri": "https://localhost:8080/",
          "height": 0
        },
        "id": "mUNVm33Imgcb",
        "outputId": "1f0d8c1b-8b73-45c3-87a7-7830c8157985"
      },
      "execution_count": 3,
      "outputs": [
        {
          "output_type": "display_data",
          "data": {
            "text/plain": [
              "<IPython.core.display.Javascript object>"
            ],
            "application/javascript": [
              "google.colab.output.setIframeHeight(0, true, {maxHeight: 5000})"
            ]
          },
          "metadata": {}
        }
      ]
    },
    {
      "cell_type": "markdown",
      "source": [
        "## Game Log Dashboard\n",
        "\n",
        "Select \"Runtime\" in the navigation bar above and click \"Run all\""
      ],
      "metadata": {
        "id": "9Gq62nWvrd8l"
      }
    },
    {
      "cell_type": "code",
      "source": [
        "interact(pick_division, Division=[\"Women's Tournament\", \"Men's Tournament\"]);"
      ],
      "metadata": {
        "id": "pRzyDdllmgaJ",
        "colab": {
          "base_uri": "https://localhost:8080/",
          "height": 1306,
          "referenced_widgets": [
            "d0f24a0fa0414ecab4119ec1da681cdb",
            "f6c6dd0102b640529f54e7c197227131",
            "225d7f45e3274c359855f21f995f23ef",
            "b71bffaef3fe4af3a484dcada1cd78d5",
            "16e1770c08ca4ac9abc80a1aee3511e5",
            "1e925466b7b740bd9974e86d39ee1137",
            "dd3271ea9afe420d8e788ce79106bbd3",
            "755d7e44155e4f1e9c62a8be4852af5a",
            "3057fc56953a483f9859eb409d1c9e0e",
            "400d054f810c4b5baa5b35300a265282",
            "6f0ed7278cf64b0a995bf072d01ed1ef",
            "5d7febb8819b467d89ea64aa4d39cfc2",
            "4f4525afe2ef44dfad2782e0164acc64",
            "343ed2d4bbb24952abe8797377d6c49b",
            "5bfd2d6a796c4b0094a06986f9d2be8d",
            "585cb08d69f5446a84802cd2888ffa63",
            "9b0715b1cc2a4d368ba322ee5ab14ffb",
            "5d412d6f625f4d2b9b1973cd4306fce3",
            "76df07a121b646c7a097ce081ecad133",
            "a2076f7c37174470a8d87d103f41af9a",
            "6db81d5af0cd4baab8900fb09a4baa1a",
            "32e9987d82cc4ae899f6a3e1be30fd8c",
            "00d36fcb4c884da38c756735a59710b4",
            "02682ec6d2b2495baf60763539b6cd6b",
            "5e8eaa7263044b7b80ff55b43b4e0f71",
            "773c7a41f56848c6842060ea4aafd136",
            "3f5e4f1ded7646c08375abedc902e26f",
            "f974aa7652c141b8a788921b47224834"
          ]
        },
        "outputId": "9c5358b9-859c-4073-870d-9a14a9d2cb22"
      },
      "execution_count": 4,
      "outputs": [
        {
          "output_type": "display_data",
          "data": {
            "text/plain": [
              "<IPython.core.display.Javascript object>"
            ],
            "application/javascript": [
              "google.colab.output.setIframeHeight(0, true, {maxHeight: 5000})"
            ]
          },
          "metadata": {}
        },
        {
          "output_type": "display_data",
          "data": {
            "text/plain": [
              "interactive(children=(Dropdown(description='Division', options=(\"Women's Tournament\", \"Men's Tournament\"), val…"
            ],
            "application/vnd.jupyter.widget-view+json": {
              "version_major": 2,
              "version_minor": 0,
              "model_id": "d0f24a0fa0414ecab4119ec1da681cdb"
            }
          },
          "metadata": {}
        }
      ]
    }
  ],
  "metadata": {
    "kernelspec": {
      "display_name": "Python 3",
      "language": "python",
      "name": "python3"
    },
    "language_info": {
      "codemirror_mode": {
        "name": "ipython",
        "version": 3
      },
      "file_extension": ".py",
      "mimetype": "text/x-python",
      "name": "python",
      "nbconvert_exporter": "python",
      "pygments_lexer": "ipython3",
      "version": "3.7.7"
    },
    "colab": {
      "provenance": [],
      "collapsed_sections": [
        "oLeWEgreraAZ"
      ]
    },
    "widgets": {
      "application/vnd.jupyter.widget-state+json": {
        "d0f24a0fa0414ecab4119ec1da681cdb": {
          "model_module": "@jupyter-widgets/controls",
          "model_name": "VBoxModel",
          "model_module_version": "1.5.0",
          "state": {
            "_dom_classes": [
              "widget-interact"
            ],
            "_model_module": "@jupyter-widgets/controls",
            "_model_module_version": "1.5.0",
            "_model_name": "VBoxModel",
            "_view_count": null,
            "_view_module": "@jupyter-widgets/controls",
            "_view_module_version": "1.5.0",
            "_view_name": "VBoxView",
            "box_style": "",
            "children": [
              "IPY_MODEL_f6c6dd0102b640529f54e7c197227131",
              "IPY_MODEL_225d7f45e3274c359855f21f995f23ef"
            ],
            "layout": "IPY_MODEL_b71bffaef3fe4af3a484dcada1cd78d5"
          }
        },
        "f6c6dd0102b640529f54e7c197227131": {
          "model_module": "@jupyter-widgets/controls",
          "model_name": "DropdownModel",
          "model_module_version": "1.5.0",
          "state": {
            "_dom_classes": [],
            "_model_module": "@jupyter-widgets/controls",
            "_model_module_version": "1.5.0",
            "_model_name": "DropdownModel",
            "_options_labels": [
              "Women's Tournament",
              "Men's Tournament"
            ],
            "_view_count": null,
            "_view_module": "@jupyter-widgets/controls",
            "_view_module_version": "1.5.0",
            "_view_name": "DropdownView",
            "description": "Division",
            "description_tooltip": null,
            "disabled": false,
            "index": 0,
            "layout": "IPY_MODEL_16e1770c08ca4ac9abc80a1aee3511e5",
            "style": "IPY_MODEL_1e925466b7b740bd9974e86d39ee1137"
          }
        },
        "225d7f45e3274c359855f21f995f23ef": {
          "model_module": "@jupyter-widgets/output",
          "model_name": "OutputModel",
          "model_module_version": "1.0.0",
          "state": {
            "_dom_classes": [],
            "_model_module": "@jupyter-widgets/output",
            "_model_module_version": "1.0.0",
            "_model_name": "OutputModel",
            "_view_count": null,
            "_view_module": "@jupyter-widgets/output",
            "_view_module_version": "1.0.0",
            "_view_name": "OutputView",
            "layout": "IPY_MODEL_755d7e44155e4f1e9c62a8be4852af5a",
            "msg_id": "",
            "outputs": [
              {
                "output_type": "display_data",
                "data": {
                  "text/plain": "interactive(children=(Dropdown(description='Team', options=('LSU Tigers', 'Iowa Hawkeyes', 'South Carolina Gam…",
                  "application/vnd.jupyter.widget-view+json": {
                    "version_major": 2,
                    "version_minor": 0,
                    "model_id": "dd3271ea9afe420d8e788ce79106bbd3"
                  }
                },
                "metadata": {}
              }
            ]
          }
        },
        "b71bffaef3fe4af3a484dcada1cd78d5": {
          "model_module": "@jupyter-widgets/base",
          "model_name": "LayoutModel",
          "model_module_version": "1.2.0",
          "state": {
            "_model_module": "@jupyter-widgets/base",
            "_model_module_version": "1.2.0",
            "_model_name": "LayoutModel",
            "_view_count": null,
            "_view_module": "@jupyter-widgets/base",
            "_view_module_version": "1.2.0",
            "_view_name": "LayoutView",
            "align_content": null,
            "align_items": null,
            "align_self": null,
            "border": null,
            "bottom": null,
            "display": null,
            "flex": null,
            "flex_flow": null,
            "grid_area": null,
            "grid_auto_columns": null,
            "grid_auto_flow": null,
            "grid_auto_rows": null,
            "grid_column": null,
            "grid_gap": null,
            "grid_row": null,
            "grid_template_areas": null,
            "grid_template_columns": null,
            "grid_template_rows": null,
            "height": null,
            "justify_content": null,
            "justify_items": null,
            "left": null,
            "margin": null,
            "max_height": null,
            "max_width": null,
            "min_height": null,
            "min_width": null,
            "object_fit": null,
            "object_position": null,
            "order": null,
            "overflow": null,
            "overflow_x": null,
            "overflow_y": null,
            "padding": null,
            "right": null,
            "top": null,
            "visibility": null,
            "width": null
          }
        },
        "16e1770c08ca4ac9abc80a1aee3511e5": {
          "model_module": "@jupyter-widgets/base",
          "model_name": "LayoutModel",
          "model_module_version": "1.2.0",
          "state": {
            "_model_module": "@jupyter-widgets/base",
            "_model_module_version": "1.2.0",
            "_model_name": "LayoutModel",
            "_view_count": null,
            "_view_module": "@jupyter-widgets/base",
            "_view_module_version": "1.2.0",
            "_view_name": "LayoutView",
            "align_content": null,
            "align_items": null,
            "align_self": null,
            "border": null,
            "bottom": null,
            "display": null,
            "flex": null,
            "flex_flow": null,
            "grid_area": null,
            "grid_auto_columns": null,
            "grid_auto_flow": null,
            "grid_auto_rows": null,
            "grid_column": null,
            "grid_gap": null,
            "grid_row": null,
            "grid_template_areas": null,
            "grid_template_columns": null,
            "grid_template_rows": null,
            "height": null,
            "justify_content": null,
            "justify_items": null,
            "left": null,
            "margin": null,
            "max_height": null,
            "max_width": null,
            "min_height": null,
            "min_width": null,
            "object_fit": null,
            "object_position": null,
            "order": null,
            "overflow": null,
            "overflow_x": null,
            "overflow_y": null,
            "padding": null,
            "right": null,
            "top": null,
            "visibility": null,
            "width": null
          }
        },
        "1e925466b7b740bd9974e86d39ee1137": {
          "model_module": "@jupyter-widgets/controls",
          "model_name": "DescriptionStyleModel",
          "model_module_version": "1.5.0",
          "state": {
            "_model_module": "@jupyter-widgets/controls",
            "_model_module_version": "1.5.0",
            "_model_name": "DescriptionStyleModel",
            "_view_count": null,
            "_view_module": "@jupyter-widgets/base",
            "_view_module_version": "1.2.0",
            "_view_name": "StyleView",
            "description_width": ""
          }
        },
        "dd3271ea9afe420d8e788ce79106bbd3": {
          "model_module": "@jupyter-widgets/controls",
          "model_name": "VBoxModel",
          "model_module_version": "1.5.0",
          "state": {
            "_dom_classes": [
              "widget-interact"
            ],
            "_model_module": "@jupyter-widgets/controls",
            "_model_module_version": "1.5.0",
            "_model_name": "VBoxModel",
            "_view_count": null,
            "_view_module": "@jupyter-widgets/controls",
            "_view_module_version": "1.5.0",
            "_view_name": "VBoxView",
            "box_style": "",
            "children": [
              "IPY_MODEL_3057fc56953a483f9859eb409d1c9e0e",
              "IPY_MODEL_400d054f810c4b5baa5b35300a265282"
            ],
            "layout": "IPY_MODEL_6f0ed7278cf64b0a995bf072d01ed1ef"
          }
        },
        "755d7e44155e4f1e9c62a8be4852af5a": {
          "model_module": "@jupyter-widgets/base",
          "model_name": "LayoutModel",
          "model_module_version": "1.2.0",
          "state": {
            "_model_module": "@jupyter-widgets/base",
            "_model_module_version": "1.2.0",
            "_model_name": "LayoutModel",
            "_view_count": null,
            "_view_module": "@jupyter-widgets/base",
            "_view_module_version": "1.2.0",
            "_view_name": "LayoutView",
            "align_content": null,
            "align_items": null,
            "align_self": null,
            "border": null,
            "bottom": null,
            "display": null,
            "flex": null,
            "flex_flow": null,
            "grid_area": null,
            "grid_auto_columns": null,
            "grid_auto_flow": null,
            "grid_auto_rows": null,
            "grid_column": null,
            "grid_gap": null,
            "grid_row": null,
            "grid_template_areas": null,
            "grid_template_columns": null,
            "grid_template_rows": null,
            "height": null,
            "justify_content": null,
            "justify_items": null,
            "left": null,
            "margin": null,
            "max_height": null,
            "max_width": null,
            "min_height": null,
            "min_width": null,
            "object_fit": null,
            "object_position": null,
            "order": null,
            "overflow": null,
            "overflow_x": null,
            "overflow_y": null,
            "padding": null,
            "right": null,
            "top": null,
            "visibility": null,
            "width": null
          }
        },
        "3057fc56953a483f9859eb409d1c9e0e": {
          "model_module": "@jupyter-widgets/controls",
          "model_name": "DropdownModel",
          "model_module_version": "1.5.0",
          "state": {
            "_dom_classes": [],
            "_model_module": "@jupyter-widgets/controls",
            "_model_module_version": "1.5.0",
            "_model_name": "DropdownModel",
            "_options_labels": [
              "LSU Tigers",
              "Iowa Hawkeyes",
              "South Carolina Gamecocks",
              "Virginia Tech Hokies"
            ],
            "_view_count": null,
            "_view_module": "@jupyter-widgets/controls",
            "_view_module_version": "1.5.0",
            "_view_name": "DropdownView",
            "description": "Team",
            "description_tooltip": null,
            "disabled": false,
            "index": 0,
            "layout": "IPY_MODEL_5d7febb8819b467d89ea64aa4d39cfc2",
            "style": "IPY_MODEL_4f4525afe2ef44dfad2782e0164acc64"
          }
        },
        "400d054f810c4b5baa5b35300a265282": {
          "model_module": "@jupyter-widgets/output",
          "model_name": "OutputModel",
          "model_module_version": "1.0.0",
          "state": {
            "_dom_classes": [],
            "_model_module": "@jupyter-widgets/output",
            "_model_module_version": "1.0.0",
            "_model_name": "OutputModel",
            "_view_count": null,
            "_view_module": "@jupyter-widgets/output",
            "_view_module_version": "1.0.0",
            "_view_name": "OutputView",
            "layout": "IPY_MODEL_343ed2d4bbb24952abe8797377d6c49b",
            "msg_id": "",
            "outputs": [
              {
                "output_type": "display_data",
                "data": {
                  "text/plain": "interactive(children=(Dropdown(description='Sort_By', options=('POSS', 'PPP', 'OPP PPP', '3PA%', 'OPP 3PA%', '…",
                  "application/vnd.jupyter.widget-view+json": {
                    "version_major": 2,
                    "version_minor": 0,
                    "model_id": "5bfd2d6a796c4b0094a06986f9d2be8d"
                  }
                },
                "metadata": {}
              }
            ]
          }
        },
        "6f0ed7278cf64b0a995bf072d01ed1ef": {
          "model_module": "@jupyter-widgets/base",
          "model_name": "LayoutModel",
          "model_module_version": "1.2.0",
          "state": {
            "_model_module": "@jupyter-widgets/base",
            "_model_module_version": "1.2.0",
            "_model_name": "LayoutModel",
            "_view_count": null,
            "_view_module": "@jupyter-widgets/base",
            "_view_module_version": "1.2.0",
            "_view_name": "LayoutView",
            "align_content": null,
            "align_items": null,
            "align_self": null,
            "border": null,
            "bottom": null,
            "display": null,
            "flex": null,
            "flex_flow": null,
            "grid_area": null,
            "grid_auto_columns": null,
            "grid_auto_flow": null,
            "grid_auto_rows": null,
            "grid_column": null,
            "grid_gap": null,
            "grid_row": null,
            "grid_template_areas": null,
            "grid_template_columns": null,
            "grid_template_rows": null,
            "height": null,
            "justify_content": null,
            "justify_items": null,
            "left": null,
            "margin": null,
            "max_height": null,
            "max_width": null,
            "min_height": null,
            "min_width": null,
            "object_fit": null,
            "object_position": null,
            "order": null,
            "overflow": null,
            "overflow_x": null,
            "overflow_y": null,
            "padding": null,
            "right": null,
            "top": null,
            "visibility": null,
            "width": null
          }
        },
        "5d7febb8819b467d89ea64aa4d39cfc2": {
          "model_module": "@jupyter-widgets/base",
          "model_name": "LayoutModel",
          "model_module_version": "1.2.0",
          "state": {
            "_model_module": "@jupyter-widgets/base",
            "_model_module_version": "1.2.0",
            "_model_name": "LayoutModel",
            "_view_count": null,
            "_view_module": "@jupyter-widgets/base",
            "_view_module_version": "1.2.0",
            "_view_name": "LayoutView",
            "align_content": null,
            "align_items": null,
            "align_self": null,
            "border": null,
            "bottom": null,
            "display": null,
            "flex": null,
            "flex_flow": null,
            "grid_area": null,
            "grid_auto_columns": null,
            "grid_auto_flow": null,
            "grid_auto_rows": null,
            "grid_column": null,
            "grid_gap": null,
            "grid_row": null,
            "grid_template_areas": null,
            "grid_template_columns": null,
            "grid_template_rows": null,
            "height": null,
            "justify_content": null,
            "justify_items": null,
            "left": null,
            "margin": null,
            "max_height": null,
            "max_width": null,
            "min_height": null,
            "min_width": null,
            "object_fit": null,
            "object_position": null,
            "order": null,
            "overflow": null,
            "overflow_x": null,
            "overflow_y": null,
            "padding": null,
            "right": null,
            "top": null,
            "visibility": null,
            "width": null
          }
        },
        "4f4525afe2ef44dfad2782e0164acc64": {
          "model_module": "@jupyter-widgets/controls",
          "model_name": "DescriptionStyleModel",
          "model_module_version": "1.5.0",
          "state": {
            "_model_module": "@jupyter-widgets/controls",
            "_model_module_version": "1.5.0",
            "_model_name": "DescriptionStyleModel",
            "_view_count": null,
            "_view_module": "@jupyter-widgets/base",
            "_view_module_version": "1.2.0",
            "_view_name": "StyleView",
            "description_width": ""
          }
        },
        "343ed2d4bbb24952abe8797377d6c49b": {
          "model_module": "@jupyter-widgets/base",
          "model_name": "LayoutModel",
          "model_module_version": "1.2.0",
          "state": {
            "_model_module": "@jupyter-widgets/base",
            "_model_module_version": "1.2.0",
            "_model_name": "LayoutModel",
            "_view_count": null,
            "_view_module": "@jupyter-widgets/base",
            "_view_module_version": "1.2.0",
            "_view_name": "LayoutView",
            "align_content": null,
            "align_items": null,
            "align_self": null,
            "border": null,
            "bottom": null,
            "display": null,
            "flex": null,
            "flex_flow": null,
            "grid_area": null,
            "grid_auto_columns": null,
            "grid_auto_flow": null,
            "grid_auto_rows": null,
            "grid_column": null,
            "grid_gap": null,
            "grid_row": null,
            "grid_template_areas": null,
            "grid_template_columns": null,
            "grid_template_rows": null,
            "height": null,
            "justify_content": null,
            "justify_items": null,
            "left": null,
            "margin": null,
            "max_height": null,
            "max_width": null,
            "min_height": null,
            "min_width": null,
            "object_fit": null,
            "object_position": null,
            "order": null,
            "overflow": null,
            "overflow_x": null,
            "overflow_y": null,
            "padding": null,
            "right": null,
            "top": null,
            "visibility": null,
            "width": null
          }
        },
        "5bfd2d6a796c4b0094a06986f9d2be8d": {
          "model_module": "@jupyter-widgets/controls",
          "model_name": "VBoxModel",
          "model_module_version": "1.5.0",
          "state": {
            "_dom_classes": [
              "widget-interact"
            ],
            "_model_module": "@jupyter-widgets/controls",
            "_model_module_version": "1.5.0",
            "_model_name": "VBoxModel",
            "_view_count": null,
            "_view_module": "@jupyter-widgets/controls",
            "_view_module_version": "1.5.0",
            "_view_name": "VBoxView",
            "box_style": "",
            "children": [
              "IPY_MODEL_585cb08d69f5446a84802cd2888ffa63",
              "IPY_MODEL_9b0715b1cc2a4d368ba322ee5ab14ffb"
            ],
            "layout": "IPY_MODEL_5d412d6f625f4d2b9b1973cd4306fce3"
          }
        },
        "585cb08d69f5446a84802cd2888ffa63": {
          "model_module": "@jupyter-widgets/controls",
          "model_name": "DropdownModel",
          "model_module_version": "1.5.0",
          "state": {
            "_dom_classes": [],
            "_model_module": "@jupyter-widgets/controls",
            "_model_module_version": "1.5.0",
            "_model_name": "DropdownModel",
            "_options_labels": [
              "POSS",
              "PPP",
              "OPP PPP",
              "3PA%",
              "OPP 3PA%",
              "FTA%",
              "OPP FTA%",
              "ORB%",
              "DRB%",
              "REB%",
              "TO%",
              "OPP TO%"
            ],
            "_view_count": null,
            "_view_module": "@jupyter-widgets/controls",
            "_view_module_version": "1.5.0",
            "_view_name": "DropdownView",
            "description": "Sort_By",
            "description_tooltip": null,
            "disabled": false,
            "index": 0,
            "layout": "IPY_MODEL_76df07a121b646c7a097ce081ecad133",
            "style": "IPY_MODEL_a2076f7c37174470a8d87d103f41af9a"
          }
        },
        "9b0715b1cc2a4d368ba322ee5ab14ffb": {
          "model_module": "@jupyter-widgets/output",
          "model_name": "OutputModel",
          "model_module_version": "1.0.0",
          "state": {
            "_dom_classes": [],
            "_model_module": "@jupyter-widgets/output",
            "_model_module_version": "1.0.0",
            "_model_name": "OutputModel",
            "_view_count": null,
            "_view_module": "@jupyter-widgets/output",
            "_view_module_version": "1.0.0",
            "_view_name": "OutputView",
            "layout": "IPY_MODEL_32e9987d82cc4ae899f6a3e1be30fd8c",
            "msg_id": "",
            "outputs": [
              {
                "output_type": "display_data",
                "data": {
                  "text/plain": "interactive(children=(Dropdown(description='Season', options=('All Games', 'Last 5 Games', 'Last 10 Games'), v…",
                  "application/vnd.jupyter.widget-view+json": {
                    "version_major": 2,
                    "version_minor": 0,
                    "model_id": "6db81d5af0cd4baab8900fb09a4baa1a"
                  }
                },
                "metadata": {}
              }
            ]
          }
        },
        "5d412d6f625f4d2b9b1973cd4306fce3": {
          "model_module": "@jupyter-widgets/base",
          "model_name": "LayoutModel",
          "model_module_version": "1.2.0",
          "state": {
            "_model_module": "@jupyter-widgets/base",
            "_model_module_version": "1.2.0",
            "_model_name": "LayoutModel",
            "_view_count": null,
            "_view_module": "@jupyter-widgets/base",
            "_view_module_version": "1.2.0",
            "_view_name": "LayoutView",
            "align_content": null,
            "align_items": null,
            "align_self": null,
            "border": null,
            "bottom": null,
            "display": null,
            "flex": null,
            "flex_flow": null,
            "grid_area": null,
            "grid_auto_columns": null,
            "grid_auto_flow": null,
            "grid_auto_rows": null,
            "grid_column": null,
            "grid_gap": null,
            "grid_row": null,
            "grid_template_areas": null,
            "grid_template_columns": null,
            "grid_template_rows": null,
            "height": null,
            "justify_content": null,
            "justify_items": null,
            "left": null,
            "margin": null,
            "max_height": null,
            "max_width": null,
            "min_height": null,
            "min_width": null,
            "object_fit": null,
            "object_position": null,
            "order": null,
            "overflow": null,
            "overflow_x": null,
            "overflow_y": null,
            "padding": null,
            "right": null,
            "top": null,
            "visibility": null,
            "width": null
          }
        },
        "76df07a121b646c7a097ce081ecad133": {
          "model_module": "@jupyter-widgets/base",
          "model_name": "LayoutModel",
          "model_module_version": "1.2.0",
          "state": {
            "_model_module": "@jupyter-widgets/base",
            "_model_module_version": "1.2.0",
            "_model_name": "LayoutModel",
            "_view_count": null,
            "_view_module": "@jupyter-widgets/base",
            "_view_module_version": "1.2.0",
            "_view_name": "LayoutView",
            "align_content": null,
            "align_items": null,
            "align_self": null,
            "border": null,
            "bottom": null,
            "display": null,
            "flex": null,
            "flex_flow": null,
            "grid_area": null,
            "grid_auto_columns": null,
            "grid_auto_flow": null,
            "grid_auto_rows": null,
            "grid_column": null,
            "grid_gap": null,
            "grid_row": null,
            "grid_template_areas": null,
            "grid_template_columns": null,
            "grid_template_rows": null,
            "height": null,
            "justify_content": null,
            "justify_items": null,
            "left": null,
            "margin": null,
            "max_height": null,
            "max_width": null,
            "min_height": null,
            "min_width": null,
            "object_fit": null,
            "object_position": null,
            "order": null,
            "overflow": null,
            "overflow_x": null,
            "overflow_y": null,
            "padding": null,
            "right": null,
            "top": null,
            "visibility": null,
            "width": null
          }
        },
        "a2076f7c37174470a8d87d103f41af9a": {
          "model_module": "@jupyter-widgets/controls",
          "model_name": "DescriptionStyleModel",
          "model_module_version": "1.5.0",
          "state": {
            "_model_module": "@jupyter-widgets/controls",
            "_model_module_version": "1.5.0",
            "_model_name": "DescriptionStyleModel",
            "_view_count": null,
            "_view_module": "@jupyter-widgets/base",
            "_view_module_version": "1.2.0",
            "_view_name": "StyleView",
            "description_width": ""
          }
        },
        "6db81d5af0cd4baab8900fb09a4baa1a": {
          "model_module": "@jupyter-widgets/controls",
          "model_name": "VBoxModel",
          "model_module_version": "1.5.0",
          "state": {
            "_dom_classes": [
              "widget-interact"
            ],
            "_model_module": "@jupyter-widgets/controls",
            "_model_module_version": "1.5.0",
            "_model_name": "VBoxModel",
            "_view_count": null,
            "_view_module": "@jupyter-widgets/controls",
            "_view_module_version": "1.5.0",
            "_view_name": "VBoxView",
            "box_style": "",
            "children": [
              "IPY_MODEL_00d36fcb4c884da38c756735a59710b4",
              "IPY_MODEL_02682ec6d2b2495baf60763539b6cd6b"
            ],
            "layout": "IPY_MODEL_5e8eaa7263044b7b80ff55b43b4e0f71"
          }
        },
        "32e9987d82cc4ae899f6a3e1be30fd8c": {
          "model_module": "@jupyter-widgets/base",
          "model_name": "LayoutModel",
          "model_module_version": "1.2.0",
          "state": {
            "_model_module": "@jupyter-widgets/base",
            "_model_module_version": "1.2.0",
            "_model_name": "LayoutModel",
            "_view_count": null,
            "_view_module": "@jupyter-widgets/base",
            "_view_module_version": "1.2.0",
            "_view_name": "LayoutView",
            "align_content": null,
            "align_items": null,
            "align_self": null,
            "border": null,
            "bottom": null,
            "display": null,
            "flex": null,
            "flex_flow": null,
            "grid_area": null,
            "grid_auto_columns": null,
            "grid_auto_flow": null,
            "grid_auto_rows": null,
            "grid_column": null,
            "grid_gap": null,
            "grid_row": null,
            "grid_template_areas": null,
            "grid_template_columns": null,
            "grid_template_rows": null,
            "height": null,
            "justify_content": null,
            "justify_items": null,
            "left": null,
            "margin": null,
            "max_height": null,
            "max_width": null,
            "min_height": null,
            "min_width": null,
            "object_fit": null,
            "object_position": null,
            "order": null,
            "overflow": null,
            "overflow_x": null,
            "overflow_y": null,
            "padding": null,
            "right": null,
            "top": null,
            "visibility": null,
            "width": null
          }
        },
        "00d36fcb4c884da38c756735a59710b4": {
          "model_module": "@jupyter-widgets/controls",
          "model_name": "DropdownModel",
          "model_module_version": "1.5.0",
          "state": {
            "_dom_classes": [],
            "_model_module": "@jupyter-widgets/controls",
            "_model_module_version": "1.5.0",
            "_model_name": "DropdownModel",
            "_options_labels": [
              "All Games",
              "Last 5 Games",
              "Last 10 Games"
            ],
            "_view_count": null,
            "_view_module": "@jupyter-widgets/controls",
            "_view_module_version": "1.5.0",
            "_view_name": "DropdownView",
            "description": "Season",
            "description_tooltip": null,
            "disabled": false,
            "index": 0,
            "layout": "IPY_MODEL_773c7a41f56848c6842060ea4aafd136",
            "style": "IPY_MODEL_3f5e4f1ded7646c08375abedc902e26f"
          }
        },
        "02682ec6d2b2495baf60763539b6cd6b": {
          "model_module": "@jupyter-widgets/output",
          "model_name": "OutputModel",
          "model_module_version": "1.0.0",
          "state": {
            "_dom_classes": [],
            "_model_module": "@jupyter-widgets/output",
            "_model_module_version": "1.0.0",
            "_model_name": "OutputModel",
            "_view_count": null,
            "_view_module": "@jupyter-widgets/output",
            "_view_module_version": "1.0.0",
            "_view_name": "OutputView",
            "layout": "IPY_MODEL_f974aa7652c141b8a788921b47224834",
            "msg_id": "",
            "outputs": [
              {
                "output_type": "display_data",
                "data": {
                  "text/plain": "                               W/L  Margin  POSS   PPP  OPP PPP  3PA%  \\\nOpponent                                                                \nBellarmine                       W      75  83.6  1.50     0.59  24.6   \nNorthwestern State               W      55  81.1  1.23     0.56  28.0   \nGeorgia                   W (1 OT)       5  80.4  1.02     1.00  34.3   \nMississippi Valley State         W      70  78.1  1.42     0.52  27.8   \nFlorida                          W      11  76.3  1.18     1.07  28.6   \nMontana State                    W      39  76.3  1.19     0.75  15.4   \nAlabama                          W      38  75.8  1.17     0.70  25.7   \nOle Miss                         W       9  75.1  0.92     0.87  11.9   \nKentucky                         W      19  74.5  0.90     0.66  14.0   \nOregon State                     W      32  74.2  1.17     0.71  26.6   \nUAB                              W      35  72.9  1.36     0.83  15.9   \nArkansas                         W      24  72.7  0.95     0.63  27.7   \nGeorgia                          W      17  72.5  1.14     0.91  39.3   \nArkansas                         W       3  72.4  1.09     1.04  14.9   \nMiami (FL)                       W      12  72.4  0.75     0.61  19.0   \nHouston Christian                W      54  71.9  1.40     0.65  13.2   \nVanderbilt                       W      25  71.3  1.23     0.88  26.6   \nTennessee                        W       8  70.7  1.08     0.97  16.1   \nSouth Carolina                   L     -24  70.7  0.91     1.22   7.7   \nTulane                           W      13  70.4  1.21     1.06  25.0   \nWestern Carolina                 W      73  70.1  1.53     0.49  20.9   \nTennessee                        L      -2  70.0  0.96     0.96  20.0   \nTexas A&M                        W      40  68.8  1.08     0.49  23.3   \nSoutheastern Louisiana           W       8  68.3  0.92     0.79  32.8   \nUtah                             W       3  68.3  0.97     0.96  22.4   \nVanderbilt                       W      19  67.9  1.21     0.90  34.4   \nAuburn                           W      30  67.4  1.25     0.80  23.9   \nTexas A&M                        W       6  67.1  1.07     0.93  16.4   \nMissouri                         W      20  66.8  1.15     0.84  30.0   \nGeorge Mason                     W      28  66.5  1.20     0.72  18.3   \nHawaii                           W      23  65.3  1.12     0.79  22.6   \nMississippi State                W      15  63.2  1.17     0.97  21.2   \nLamar                            W      46  62.9  1.40     0.67  25.0   \nMichigan                         W      24  58.2  1.13     0.73  27.9   \nTotal                                  853  71.3  1.15     0.80  23.0   \n\n                          OPP 3PA%  FTA%  OPP FTA%  ORB%  DRB%  REB%   TO%  \\\nOpponent                                                                     \nBellarmine                    31.6  82.6      43.9  61.8  82.9  73.3  16.7   \nNorthwestern State            44.2  34.7      28.8  51.3  91.4  70.3  22.2   \nGeorgia                       26.4  67.2      45.3  48.8  70.8  56.7  22.4   \nMississippi Valley State      30.6  35.4      22.6  58.3  76.6  68.7  14.1   \nFlorida                       36.5  11.4      31.7  50.0  70.6  61.7  24.9   \nMontana State                 42.1  40.0      24.6  44.0  83.3  67.2  18.4   \nAlabama                       41.5  25.7      21.5  41.2  73.8  59.2  19.8   \nOle Miss                      25.4  44.8      11.1  35.1  66.7  50.0  14.7   \nKentucky                      30.9  62.0      16.4  43.5  80.6  64.8  32.2   \nOregon State                  35.6  15.2      27.1  45.0  85.7  64.0  14.8   \nUAB                           31.2  26.1      35.9  48.3  95.0  75.4  17.8   \nArkansas                      42.6  44.6      19.7  50.0  85.0  66.7  27.5   \nGeorgia                       21.7  42.9      28.3  26.9  77.8  52.8  22.1   \nArkansas                      46.0  38.8      17.5  50.0  84.8  65.8  23.5   \nMiami (FL)                    26.3  41.3      15.8  30.6  81.6  56.8  16.6   \nHouston Christian             40.7  23.7      16.9  61.8  70.6  66.2  16.7   \nVanderbilt                    33.9  32.8      22.6  57.7  81.4  72.5  22.4   \nTennessee                     28.8  50.0      18.2  43.2  66.7  55.7  19.8   \nSouth Carolina                 9.8  23.1      45.9  17.6  61.5  36.7  11.3   \nTulane                        45.8  31.7      18.6  32.0  77.8  55.8  18.5   \nWestern Carolina              44.3  61.2      21.3  63.3  77.1  71.8  10.0   \nTennessee                     18.3  13.8      41.7  39.4  59.4  49.2  24.3   \nTexas A&M                     33.3  51.7      13.6  48.6  72.9  62.7  21.8   \nSoutheastern Louisiana        16.1  23.0      19.6  40.0  93.3  64.6  26.3   \nUtah                          44.9  39.7      49.0  30.3  77.8  51.7  19.0   \nVanderbilt                    55.2  20.3      19.0  44.4  82.4  65.6  19.1   \nAuburn                        20.6  31.3      25.4  42.4  66.7  56.0  11.9   \nTexas A&M                     28.8  49.1      33.9  43.8  68.4  57.1  25.3   \nMissouri                      42.6  48.0      22.2  37.5  80.6  61.8  27.0   \nGeorge Mason                  45.5  46.7      25.8  45.2  73.3  61.8  16.5   \nHawaii                        61.5  40.3      23.1  42.9  71.9  56.7  15.3   \nMississippi State             24.5  40.9      34.7  48.7  89.7  66.2  11.1   \nLamar                         20.8  37.5      18.9  59.4  73.3  66.1  15.9   \nMichigan                      28.3  22.1      15.2  52.6  88.9  67.7  10.3   \nTotal                         34.0  37.6      25.6  45.4  77.6  62.0  19.2   \n\n                          OPP TO%  \nOpponent                           \nBellarmine                   32.8  \nNorthwestern State           34.9  \nGeorgia                      31.0  \nMississippi Valley State     31.7  \nFlorida                      20.3  \nMontana State                21.7  \nAlabama                      21.9  \nOle Miss                     24.6  \nKentucky                     31.5  \nOregon State                 25.7  \nUAB                          10.4  \nArkansas                     19.6  \nGeorgia                      19.3  \nArkansas                     17.9  \nMiami (FL)                   26.1  \nHouston Christian            30.4  \nVanderbilt                   19.7  \nTennessee                    22.7  \nSouth Carolina               16.6  \nTulane                       19.1  \nWestern Carolina             24.4  \nTennessee                    23.6  \nTexas A&M                    22.8  \nSoutheastern Louisiana       20.0  \nUtah                         22.8  \nVanderbilt                   22.9  \nAuburn                       20.8  \nTexas A&M                    25.4  \nMissouri                     25.2  \nGeorge Mason                 19.3  \nHawaii                       28.3  \nMississippi State            16.4  \nLamar                        25.5  \nMichigan                     24.3  \nTotal                        23.6  ",
                  "text/html": "\n  <div id=\"df-b3d2ec25-ae81-42e9-8f92-91942ed645c0\">\n    <div class=\"colab-df-container\">\n      <div>\n<style scoped>\n    .dataframe tbody tr th:only-of-type {\n        vertical-align: middle;\n    }\n\n    .dataframe tbody tr th {\n        vertical-align: top;\n    }\n\n    .dataframe thead th {\n        text-align: right;\n    }\n</style>\n<table border=\"1\" class=\"dataframe\">\n  <thead>\n    <tr style=\"text-align: right;\">\n      <th></th>\n      <th>W/L</th>\n      <th>Margin</th>\n      <th>POSS</th>\n      <th>PPP</th>\n      <th>OPP PPP</th>\n      <th>3PA%</th>\n      <th>OPP 3PA%</th>\n      <th>FTA%</th>\n      <th>OPP FTA%</th>\n      <th>ORB%</th>\n      <th>DRB%</th>\n      <th>REB%</th>\n      <th>TO%</th>\n      <th>OPP TO%</th>\n    </tr>\n    <tr>\n      <th>Opponent</th>\n      <th></th>\n      <th></th>\n      <th></th>\n      <th></th>\n      <th></th>\n      <th></th>\n      <th></th>\n      <th></th>\n      <th></th>\n      <th></th>\n      <th></th>\n      <th></th>\n      <th></th>\n      <th></th>\n    </tr>\n  </thead>\n  <tbody>\n    <tr>\n      <th>Bellarmine</th>\n      <td>W</td>\n      <td>75</td>\n      <td>83.6</td>\n      <td>1.50</td>\n      <td>0.59</td>\n      <td>24.6</td>\n      <td>31.6</td>\n      <td>82.6</td>\n      <td>43.9</td>\n      <td>61.8</td>\n      <td>82.9</td>\n      <td>73.3</td>\n      <td>16.7</td>\n      <td>32.8</td>\n    </tr>\n    <tr>\n      <th>Northwestern State</th>\n      <td>W</td>\n      <td>55</td>\n      <td>81.1</td>\n      <td>1.23</td>\n      <td>0.56</td>\n      <td>28.0</td>\n      <td>44.2</td>\n      <td>34.7</td>\n      <td>28.8</td>\n      <td>51.3</td>\n      <td>91.4</td>\n      <td>70.3</td>\n      <td>22.2</td>\n      <td>34.9</td>\n    </tr>\n    <tr>\n      <th>Georgia</th>\n      <td>W (1 OT)</td>\n      <td>5</td>\n      <td>80.4</td>\n      <td>1.02</td>\n      <td>1.00</td>\n      <td>34.3</td>\n      <td>26.4</td>\n      <td>67.2</td>\n      <td>45.3</td>\n      <td>48.8</td>\n      <td>70.8</td>\n      <td>56.7</td>\n      <td>22.4</td>\n      <td>31.0</td>\n    </tr>\n    <tr>\n      <th>Mississippi Valley State</th>\n      <td>W</td>\n      <td>70</td>\n      <td>78.1</td>\n      <td>1.42</td>\n      <td>0.52</td>\n      <td>27.8</td>\n      <td>30.6</td>\n      <td>35.4</td>\n      <td>22.6</td>\n      <td>58.3</td>\n      <td>76.6</td>\n      <td>68.7</td>\n      <td>14.1</td>\n      <td>31.7</td>\n    </tr>\n    <tr>\n      <th>Florida</th>\n      <td>W</td>\n      <td>11</td>\n      <td>76.3</td>\n      <td>1.18</td>\n      <td>1.07</td>\n      <td>28.6</td>\n      <td>36.5</td>\n      <td>11.4</td>\n      <td>31.7</td>\n      <td>50.0</td>\n      <td>70.6</td>\n      <td>61.7</td>\n      <td>24.9</td>\n      <td>20.3</td>\n    </tr>\n    <tr>\n      <th>Montana State</th>\n      <td>W</td>\n      <td>39</td>\n      <td>76.3</td>\n      <td>1.19</td>\n      <td>0.75</td>\n      <td>15.4</td>\n      <td>42.1</td>\n      <td>40.0</td>\n      <td>24.6</td>\n      <td>44.0</td>\n      <td>83.3</td>\n      <td>67.2</td>\n      <td>18.4</td>\n      <td>21.7</td>\n    </tr>\n    <tr>\n      <th>Alabama</th>\n      <td>W</td>\n      <td>38</td>\n      <td>75.8</td>\n      <td>1.17</td>\n      <td>0.70</td>\n      <td>25.7</td>\n      <td>41.5</td>\n      <td>25.7</td>\n      <td>21.5</td>\n      <td>41.2</td>\n      <td>73.8</td>\n      <td>59.2</td>\n      <td>19.8</td>\n      <td>21.9</td>\n    </tr>\n    <tr>\n      <th>Ole Miss</th>\n      <td>W</td>\n      <td>9</td>\n      <td>75.1</td>\n      <td>0.92</td>\n      <td>0.87</td>\n      <td>11.9</td>\n      <td>25.4</td>\n      <td>44.8</td>\n      <td>11.1</td>\n      <td>35.1</td>\n      <td>66.7</td>\n      <td>50.0</td>\n      <td>14.7</td>\n      <td>24.6</td>\n    </tr>\n    <tr>\n      <th>Kentucky</th>\n      <td>W</td>\n      <td>19</td>\n      <td>74.5</td>\n      <td>0.90</td>\n      <td>0.66</td>\n      <td>14.0</td>\n      <td>30.9</td>\n      <td>62.0</td>\n      <td>16.4</td>\n      <td>43.5</td>\n      <td>80.6</td>\n      <td>64.8</td>\n      <td>32.2</td>\n      <td>31.5</td>\n    </tr>\n    <tr>\n      <th>Oregon State</th>\n      <td>W</td>\n      <td>32</td>\n      <td>74.2</td>\n      <td>1.17</td>\n      <td>0.71</td>\n      <td>26.6</td>\n      <td>35.6</td>\n      <td>15.2</td>\n      <td>27.1</td>\n      <td>45.0</td>\n      <td>85.7</td>\n      <td>64.0</td>\n      <td>14.8</td>\n      <td>25.7</td>\n    </tr>\n    <tr>\n      <th>UAB</th>\n      <td>W</td>\n      <td>35</td>\n      <td>72.9</td>\n      <td>1.36</td>\n      <td>0.83</td>\n      <td>15.9</td>\n      <td>31.2</td>\n      <td>26.1</td>\n      <td>35.9</td>\n      <td>48.3</td>\n      <td>95.0</td>\n      <td>75.4</td>\n      <td>17.8</td>\n      <td>10.4</td>\n    </tr>\n    <tr>\n      <th>Arkansas</th>\n      <td>W</td>\n      <td>24</td>\n      <td>72.7</td>\n      <td>0.95</td>\n      <td>0.63</td>\n      <td>27.7</td>\n      <td>42.6</td>\n      <td>44.6</td>\n      <td>19.7</td>\n      <td>50.0</td>\n      <td>85.0</td>\n      <td>66.7</td>\n      <td>27.5</td>\n      <td>19.6</td>\n    </tr>\n    <tr>\n      <th>Georgia</th>\n      <td>W</td>\n      <td>17</td>\n      <td>72.5</td>\n      <td>1.14</td>\n      <td>0.91</td>\n      <td>39.3</td>\n      <td>21.7</td>\n      <td>42.9</td>\n      <td>28.3</td>\n      <td>26.9</td>\n      <td>77.8</td>\n      <td>52.8</td>\n      <td>22.1</td>\n      <td>19.3</td>\n    </tr>\n    <tr>\n      <th>Arkansas</th>\n      <td>W</td>\n      <td>3</td>\n      <td>72.4</td>\n      <td>1.09</td>\n      <td>1.04</td>\n      <td>14.9</td>\n      <td>46.0</td>\n      <td>38.8</td>\n      <td>17.5</td>\n      <td>50.0</td>\n      <td>84.8</td>\n      <td>65.8</td>\n      <td>23.5</td>\n      <td>17.9</td>\n    </tr>\n    <tr>\n      <th>Miami (FL)</th>\n      <td>W</td>\n      <td>12</td>\n      <td>72.4</td>\n      <td>0.75</td>\n      <td>0.61</td>\n      <td>19.0</td>\n      <td>26.3</td>\n      <td>41.3</td>\n      <td>15.8</td>\n      <td>30.6</td>\n      <td>81.6</td>\n      <td>56.8</td>\n      <td>16.6</td>\n      <td>26.1</td>\n    </tr>\n    <tr>\n      <th>Houston Christian</th>\n      <td>W</td>\n      <td>54</td>\n      <td>71.9</td>\n      <td>1.40</td>\n      <td>0.65</td>\n      <td>13.2</td>\n      <td>40.7</td>\n      <td>23.7</td>\n      <td>16.9</td>\n      <td>61.8</td>\n      <td>70.6</td>\n      <td>66.2</td>\n      <td>16.7</td>\n      <td>30.4</td>\n    </tr>\n    <tr>\n      <th>Vanderbilt</th>\n      <td>W</td>\n      <td>25</td>\n      <td>71.3</td>\n      <td>1.23</td>\n      <td>0.88</td>\n      <td>26.6</td>\n      <td>33.9</td>\n      <td>32.8</td>\n      <td>22.6</td>\n      <td>57.7</td>\n      <td>81.4</td>\n      <td>72.5</td>\n      <td>22.4</td>\n      <td>19.7</td>\n    </tr>\n    <tr>\n      <th>Tennessee</th>\n      <td>W</td>\n      <td>8</td>\n      <td>70.7</td>\n      <td>1.08</td>\n      <td>0.97</td>\n      <td>16.1</td>\n      <td>28.8</td>\n      <td>50.0</td>\n      <td>18.2</td>\n      <td>43.2</td>\n      <td>66.7</td>\n      <td>55.7</td>\n      <td>19.8</td>\n      <td>22.7</td>\n    </tr>\n    <tr>\n      <th>South Carolina</th>\n      <td>L</td>\n      <td>-24</td>\n      <td>70.7</td>\n      <td>0.91</td>\n      <td>1.22</td>\n      <td>7.7</td>\n      <td>9.8</td>\n      <td>23.1</td>\n      <td>45.9</td>\n      <td>17.6</td>\n      <td>61.5</td>\n      <td>36.7</td>\n      <td>11.3</td>\n      <td>16.6</td>\n    </tr>\n    <tr>\n      <th>Tulane</th>\n      <td>W</td>\n      <td>13</td>\n      <td>70.4</td>\n      <td>1.21</td>\n      <td>1.06</td>\n      <td>25.0</td>\n      <td>45.8</td>\n      <td>31.7</td>\n      <td>18.6</td>\n      <td>32.0</td>\n      <td>77.8</td>\n      <td>55.8</td>\n      <td>18.5</td>\n      <td>19.1</td>\n    </tr>\n    <tr>\n      <th>Western Carolina</th>\n      <td>W</td>\n      <td>73</td>\n      <td>70.1</td>\n      <td>1.53</td>\n      <td>0.49</td>\n      <td>20.9</td>\n      <td>44.3</td>\n      <td>61.2</td>\n      <td>21.3</td>\n      <td>63.3</td>\n      <td>77.1</td>\n      <td>71.8</td>\n      <td>10.0</td>\n      <td>24.4</td>\n    </tr>\n    <tr>\n      <th>Tennessee</th>\n      <td>L</td>\n      <td>-2</td>\n      <td>70.0</td>\n      <td>0.96</td>\n      <td>0.96</td>\n      <td>20.0</td>\n      <td>18.3</td>\n      <td>13.8</td>\n      <td>41.7</td>\n      <td>39.4</td>\n      <td>59.4</td>\n      <td>49.2</td>\n      <td>24.3</td>\n      <td>23.6</td>\n    </tr>\n    <tr>\n      <th>Texas A&amp;M</th>\n      <td>W</td>\n      <td>40</td>\n      <td>68.8</td>\n      <td>1.08</td>\n      <td>0.49</td>\n      <td>23.3</td>\n      <td>33.3</td>\n      <td>51.7</td>\n      <td>13.6</td>\n      <td>48.6</td>\n      <td>72.9</td>\n      <td>62.7</td>\n      <td>21.8</td>\n      <td>22.8</td>\n    </tr>\n    <tr>\n      <th>Southeastern Louisiana</th>\n      <td>W</td>\n      <td>8</td>\n      <td>68.3</td>\n      <td>0.92</td>\n      <td>0.79</td>\n      <td>32.8</td>\n      <td>16.1</td>\n      <td>23.0</td>\n      <td>19.6</td>\n      <td>40.0</td>\n      <td>93.3</td>\n      <td>64.6</td>\n      <td>26.3</td>\n      <td>20.0</td>\n    </tr>\n    <tr>\n      <th>Utah</th>\n      <td>W</td>\n      <td>3</td>\n      <td>68.3</td>\n      <td>0.97</td>\n      <td>0.96</td>\n      <td>22.4</td>\n      <td>44.9</td>\n      <td>39.7</td>\n      <td>49.0</td>\n      <td>30.3</td>\n      <td>77.8</td>\n      <td>51.7</td>\n      <td>19.0</td>\n      <td>22.8</td>\n    </tr>\n    <tr>\n      <th>Vanderbilt</th>\n      <td>W</td>\n      <td>19</td>\n      <td>67.9</td>\n      <td>1.21</td>\n      <td>0.90</td>\n      <td>34.4</td>\n      <td>55.2</td>\n      <td>20.3</td>\n      <td>19.0</td>\n      <td>44.4</td>\n      <td>82.4</td>\n      <td>65.6</td>\n      <td>19.1</td>\n      <td>22.9</td>\n    </tr>\n    <tr>\n      <th>Auburn</th>\n      <td>W</td>\n      <td>30</td>\n      <td>67.4</td>\n      <td>1.25</td>\n      <td>0.80</td>\n      <td>23.9</td>\n      <td>20.6</td>\n      <td>31.3</td>\n      <td>25.4</td>\n      <td>42.4</td>\n      <td>66.7</td>\n      <td>56.0</td>\n      <td>11.9</td>\n      <td>20.8</td>\n    </tr>\n    <tr>\n      <th>Texas A&amp;M</th>\n      <td>W</td>\n      <td>6</td>\n      <td>67.1</td>\n      <td>1.07</td>\n      <td>0.93</td>\n      <td>16.4</td>\n      <td>28.8</td>\n      <td>49.1</td>\n      <td>33.9</td>\n      <td>43.8</td>\n      <td>68.4</td>\n      <td>57.1</td>\n      <td>25.3</td>\n      <td>25.4</td>\n    </tr>\n    <tr>\n      <th>Missouri</th>\n      <td>W</td>\n      <td>20</td>\n      <td>66.8</td>\n      <td>1.15</td>\n      <td>0.84</td>\n      <td>30.0</td>\n      <td>42.6</td>\n      <td>48.0</td>\n      <td>22.2</td>\n      <td>37.5</td>\n      <td>80.6</td>\n      <td>61.8</td>\n      <td>27.0</td>\n      <td>25.2</td>\n    </tr>\n    <tr>\n      <th>George Mason</th>\n      <td>W</td>\n      <td>28</td>\n      <td>66.5</td>\n      <td>1.20</td>\n      <td>0.72</td>\n      <td>18.3</td>\n      <td>45.5</td>\n      <td>46.7</td>\n      <td>25.8</td>\n      <td>45.2</td>\n      <td>73.3</td>\n      <td>61.8</td>\n      <td>16.5</td>\n      <td>19.3</td>\n    </tr>\n    <tr>\n      <th>Hawaii</th>\n      <td>W</td>\n      <td>23</td>\n      <td>65.3</td>\n      <td>1.12</td>\n      <td>0.79</td>\n      <td>22.6</td>\n      <td>61.5</td>\n      <td>40.3</td>\n      <td>23.1</td>\n      <td>42.9</td>\n      <td>71.9</td>\n      <td>56.7</td>\n      <td>15.3</td>\n      <td>28.3</td>\n    </tr>\n    <tr>\n      <th>Mississippi State</th>\n      <td>W</td>\n      <td>15</td>\n      <td>63.2</td>\n      <td>1.17</td>\n      <td>0.97</td>\n      <td>21.2</td>\n      <td>24.5</td>\n      <td>40.9</td>\n      <td>34.7</td>\n      <td>48.7</td>\n      <td>89.7</td>\n      <td>66.2</td>\n      <td>11.1</td>\n      <td>16.4</td>\n    </tr>\n    <tr>\n      <th>Lamar</th>\n      <td>W</td>\n      <td>46</td>\n      <td>62.9</td>\n      <td>1.40</td>\n      <td>0.67</td>\n      <td>25.0</td>\n      <td>20.8</td>\n      <td>37.5</td>\n      <td>18.9</td>\n      <td>59.4</td>\n      <td>73.3</td>\n      <td>66.1</td>\n      <td>15.9</td>\n      <td>25.5</td>\n    </tr>\n    <tr>\n      <th>Michigan</th>\n      <td>W</td>\n      <td>24</td>\n      <td>58.2</td>\n      <td>1.13</td>\n      <td>0.73</td>\n      <td>27.9</td>\n      <td>28.3</td>\n      <td>22.1</td>\n      <td>15.2</td>\n      <td>52.6</td>\n      <td>88.9</td>\n      <td>67.7</td>\n      <td>10.3</td>\n      <td>24.3</td>\n    </tr>\n    <tr>\n      <th>Total</th>\n      <td></td>\n      <td>853</td>\n      <td>71.3</td>\n      <td>1.15</td>\n      <td>0.80</td>\n      <td>23.0</td>\n      <td>34.0</td>\n      <td>37.6</td>\n      <td>25.6</td>\n      <td>45.4</td>\n      <td>77.6</td>\n      <td>62.0</td>\n      <td>19.2</td>\n      <td>23.6</td>\n    </tr>\n  </tbody>\n</table>\n</div>\n      <button class=\"colab-df-convert\" onclick=\"convertToInteractive('df-b3d2ec25-ae81-42e9-8f92-91942ed645c0')\"\n              title=\"Convert this dataframe to an interactive table.\"\n              style=\"display:none;\">\n        \n  <svg xmlns=\"http://www.w3.org/2000/svg\" height=\"24px\"viewBox=\"0 0 24 24\"\n       width=\"24px\">\n    <path d=\"M0 0h24v24H0V0z\" fill=\"none\"/>\n    <path d=\"M18.56 5.44l.94 2.06.94-2.06 2.06-.94-2.06-.94-.94-2.06-.94 2.06-2.06.94zm-11 1L8.5 8.5l.94-2.06 2.06-.94-2.06-.94L8.5 2.5l-.94 2.06-2.06.94zm10 10l.94 2.06.94-2.06 2.06-.94-2.06-.94-.94-2.06-.94 2.06-2.06.94z\"/><path d=\"M17.41 7.96l-1.37-1.37c-.4-.4-.92-.59-1.43-.59-.52 0-1.04.2-1.43.59L10.3 9.45l-7.72 7.72c-.78.78-.78 2.05 0 2.83L4 21.41c.39.39.9.59 1.41.59.51 0 1.02-.2 1.41-.59l7.78-7.78 2.81-2.81c.8-.78.8-2.07 0-2.86zM5.41 20L4 18.59l7.72-7.72 1.47 1.35L5.41 20z\"/>\n  </svg>\n      </button>\n      \n  <style>\n    .colab-df-container {\n      display:flex;\n      flex-wrap:wrap;\n      gap: 12px;\n    }\n\n    .colab-df-convert {\n      background-color: #E8F0FE;\n      border: none;\n      border-radius: 50%;\n      cursor: pointer;\n      display: none;\n      fill: #1967D2;\n      height: 32px;\n      padding: 0 0 0 0;\n      width: 32px;\n    }\n\n    .colab-df-convert:hover {\n      background-color: #E2EBFA;\n      box-shadow: 0px 1px 2px rgba(60, 64, 67, 0.3), 0px 1px 3px 1px rgba(60, 64, 67, 0.15);\n      fill: #174EA6;\n    }\n\n    [theme=dark] .colab-df-convert {\n      background-color: #3B4455;\n      fill: #D2E3FC;\n    }\n\n    [theme=dark] .colab-df-convert:hover {\n      background-color: #434B5C;\n      box-shadow: 0px 1px 3px 1px rgba(0, 0, 0, 0.15);\n      filter: drop-shadow(0px 1px 2px rgba(0, 0, 0, 0.3));\n      fill: #FFFFFF;\n    }\n  </style>\n\n      <script>\n        const buttonEl =\n          document.querySelector('#df-b3d2ec25-ae81-42e9-8f92-91942ed645c0 button.colab-df-convert');\n        buttonEl.style.display =\n          google.colab.kernel.accessAllowed ? 'block' : 'none';\n\n        async function convertToInteractive(key) {\n          const element = document.querySelector('#df-b3d2ec25-ae81-42e9-8f92-91942ed645c0');\n          const dataTable =\n            await google.colab.kernel.invokeFunction('convertToInteractive',\n                                                     [key], {});\n          if (!dataTable) return;\n\n          const docLinkHtml = 'Like what you see? Visit the ' +\n            '<a target=\"_blank\" href=https://colab.research.google.com/notebooks/data_table.ipynb>data table notebook</a>'\n            + ' to learn more about interactive tables.';\n          element.innerHTML = '';\n          dataTable['output_type'] = 'display_data';\n          await google.colab.output.renderOutput(dataTable, element);\n          const docLink = document.createElement('div');\n          docLink.innerHTML = docLinkHtml;\n          element.appendChild(docLink);\n        }\n      </script>\n    </div>\n  </div>\n  "
                },
                "metadata": {}
              }
            ]
          }
        },
        "5e8eaa7263044b7b80ff55b43b4e0f71": {
          "model_module": "@jupyter-widgets/base",
          "model_name": "LayoutModel",
          "model_module_version": "1.2.0",
          "state": {
            "_model_module": "@jupyter-widgets/base",
            "_model_module_version": "1.2.0",
            "_model_name": "LayoutModel",
            "_view_count": null,
            "_view_module": "@jupyter-widgets/base",
            "_view_module_version": "1.2.0",
            "_view_name": "LayoutView",
            "align_content": null,
            "align_items": null,
            "align_self": null,
            "border": null,
            "bottom": null,
            "display": null,
            "flex": null,
            "flex_flow": null,
            "grid_area": null,
            "grid_auto_columns": null,
            "grid_auto_flow": null,
            "grid_auto_rows": null,
            "grid_column": null,
            "grid_gap": null,
            "grid_row": null,
            "grid_template_areas": null,
            "grid_template_columns": null,
            "grid_template_rows": null,
            "height": null,
            "justify_content": null,
            "justify_items": null,
            "left": null,
            "margin": null,
            "max_height": null,
            "max_width": null,
            "min_height": null,
            "min_width": null,
            "object_fit": null,
            "object_position": null,
            "order": null,
            "overflow": null,
            "overflow_x": null,
            "overflow_y": null,
            "padding": null,
            "right": null,
            "top": null,
            "visibility": null,
            "width": null
          }
        },
        "773c7a41f56848c6842060ea4aafd136": {
          "model_module": "@jupyter-widgets/base",
          "model_name": "LayoutModel",
          "model_module_version": "1.2.0",
          "state": {
            "_model_module": "@jupyter-widgets/base",
            "_model_module_version": "1.2.0",
            "_model_name": "LayoutModel",
            "_view_count": null,
            "_view_module": "@jupyter-widgets/base",
            "_view_module_version": "1.2.0",
            "_view_name": "LayoutView",
            "align_content": null,
            "align_items": null,
            "align_self": null,
            "border": null,
            "bottom": null,
            "display": null,
            "flex": null,
            "flex_flow": null,
            "grid_area": null,
            "grid_auto_columns": null,
            "grid_auto_flow": null,
            "grid_auto_rows": null,
            "grid_column": null,
            "grid_gap": null,
            "grid_row": null,
            "grid_template_areas": null,
            "grid_template_columns": null,
            "grid_template_rows": null,
            "height": null,
            "justify_content": null,
            "justify_items": null,
            "left": null,
            "margin": null,
            "max_height": null,
            "max_width": null,
            "min_height": null,
            "min_width": null,
            "object_fit": null,
            "object_position": null,
            "order": null,
            "overflow": null,
            "overflow_x": null,
            "overflow_y": null,
            "padding": null,
            "right": null,
            "top": null,
            "visibility": null,
            "width": null
          }
        },
        "3f5e4f1ded7646c08375abedc902e26f": {
          "model_module": "@jupyter-widgets/controls",
          "model_name": "DescriptionStyleModel",
          "model_module_version": "1.5.0",
          "state": {
            "_model_module": "@jupyter-widgets/controls",
            "_model_module_version": "1.5.0",
            "_model_name": "DescriptionStyleModel",
            "_view_count": null,
            "_view_module": "@jupyter-widgets/base",
            "_view_module_version": "1.2.0",
            "_view_name": "StyleView",
            "description_width": ""
          }
        },
        "f974aa7652c141b8a788921b47224834": {
          "model_module": "@jupyter-widgets/base",
          "model_name": "LayoutModel",
          "model_module_version": "1.2.0",
          "state": {
            "_model_module": "@jupyter-widgets/base",
            "_model_module_version": "1.2.0",
            "_model_name": "LayoutModel",
            "_view_count": null,
            "_view_module": "@jupyter-widgets/base",
            "_view_module_version": "1.2.0",
            "_view_name": "LayoutView",
            "align_content": null,
            "align_items": null,
            "align_self": null,
            "border": null,
            "bottom": null,
            "display": null,
            "flex": null,
            "flex_flow": null,
            "grid_area": null,
            "grid_auto_columns": null,
            "grid_auto_flow": null,
            "grid_auto_rows": null,
            "grid_column": null,
            "grid_gap": null,
            "grid_row": null,
            "grid_template_areas": null,
            "grid_template_columns": null,
            "grid_template_rows": null,
            "height": null,
            "justify_content": null,
            "justify_items": null,
            "left": null,
            "margin": null,
            "max_height": null,
            "max_width": null,
            "min_height": null,
            "min_width": null,
            "object_fit": null,
            "object_position": null,
            "order": null,
            "overflow": null,
            "overflow_x": null,
            "overflow_y": null,
            "padding": null,
            "right": null,
            "top": null,
            "visibility": null,
            "width": null
          }
        }
      }
    }
  },
  "nbformat": 4,
  "nbformat_minor": 0
}